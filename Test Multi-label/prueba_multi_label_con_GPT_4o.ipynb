{
  "nbformat": 4,
  "nbformat_minor": 0,
  "metadata": {
    "colab": {
      "provenance": []
    },
    "kernelspec": {
      "name": "python3",
      "display_name": "Python 3"
    },
    "language_info": {
      "name": "python"
    }
  },
  "cells": [
    {
      "source": [
        "import openai\n",
        "import os\n",
        "\n",
        "# Asegúrate de que la variable de entorno está configurada\n",
        "api_key =\"OPEN_APY_KEY\"\n",
        "if api_key is None:\n",
        "    raise ValueError(\"La variable de entorno OPENAI_API_KEY no está configurada.\")\n",
        "\n",
        "openai.api_key = api_key\n",
        "\n",
        "def classify_text(prompt, max_tokens=100):\n",
        "    response = openai.chat.completions.create(\n",
        "        model=\"gpt-4o\",\n",
        "        messages=[{\"role\": \"user\", \"content\": prompt}],\n",
        "        max_tokens=max_tokens\n",
        "    )\n",
        "    return response.choices[0].message.content.strip()\n",
        "\n",
        "def assign_tags(text):\n",
        "    prompt = f\"\"\"\n",
        "    Assign relevant tags to the following text. Choose as many as\n",
        "    appropriate from this list: Technology, AI, Business, Innovation,\n",
        "    Social Media, Privacy, Cybersecurity.\n",
        "\n",
        "    Text: \"{text}\"\n",
        "\n",
        "    Tags:\n",
        "    \"\"\"\n",
        "\n",
        "    result = classify_text(prompt, max_tokens=100) # Use the updated classify_text function\n",
        "    return [tag.strip() for tag in result.split(\",\")]\n",
        "\n",
        "# Test the function\n",
        "article = \"Facebook's new AI algorithm aims to improve content moderation while addressing user privacy concerns.\"\n",
        "tags = assign_tags(article)\n",
        "print(f\"Article: {article}\")\n",
        "print(f\"Tags: {tags}\")"
      ],
      "cell_type": "code",
      "metadata": {
        "colab": {
          "base_uri": "https://localhost:8080/"
        },
        "id": "XCsi2KLSmT13",
        "outputId": "3fed06b8-ef97-4f3c-89ff-26e74f3eabf5"
      },
      "execution_count": 37,
      "outputs": [
        {
          "output_type": "stream",
          "name": "stdout",
          "text": [
            "Article: Facebook's new AI algorithm aims to improve content moderation while addressing user privacy concerns.\n",
            "Tags: ['Technology', 'AI', 'Social Media', 'Privacy']\n"
          ]
        }
      ]
    }
  ]
}